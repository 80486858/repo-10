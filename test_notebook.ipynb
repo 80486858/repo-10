{
 "cells": [
  {
   "cell_type": "code",
   "execution_count": 1,
   "metadata": {},
   "outputs": [
    {
     "name": "stderr",
     "output_type": "stream",
     "text": [
      "c:\\Users\\DIKSHIKA\\miniconda3\\envs\\matsciml\\lib\\site-packages\\tqdm\\auto.py:21: TqdmWarning: IProgress not found. Please update jupyter and ipywidgets. See https://ipywidgets.readthedocs.io/en/stable/user_install.html\n",
      "  from .autonotebook import tqdm as notebook_tqdm\n"
     ]
    }
   ],
   "source": [
    "import pytest\n",
    "from matsciml.datasets import lips\n",
    "from matsciml.datasets.lips import LiPSDataset, lips_devset\n",
    "from matsciml.datasets import transforms"
   ]
  },
  {
   "cell_type": "code",
   "execution_count": 2,
   "metadata": {},
   "outputs": [],
   "source": [
    "dset = LiPSDataset(lips_devset)"
   ]
  },
  {
   "cell_type": "code",
   "execution_count": 3,
   "metadata": {},
   "outputs": [],
   "source": [
    "sample = dset[10]"
   ]
  },
  {
   "cell_type": "code",
   "execution_count": 5,
   "metadata": {},
   "outputs": [],
   "source": [
    "import pytorch_lightning as pl\n",
    "from matsciml.models.pyg import EGNN\n",
    "from matsciml.models.base import ScalarRegressionTask\n",
    "from matsciml.lightning.data_utils import MatSciMLDataModule\n",
    "from matsciml.datasets.transforms import DistancesTransform"
   ]
  },
  {
   "cell_type": "code",
   "execution_count": 15,
   "metadata": {},
   "outputs": [
    {
     "name": "stderr",
     "output_type": "stream",
     "text": [
      "c:\\Users\\DIKSHIKA\\miniconda3\\envs\\matsciml\\lib\\site-packages\\torch\\nn\\modules\\lazy.py:180: UserWarning: Lazy modules are a new feature under heavy development so changes to the API or functionality can happen at any moment.\n",
      "  warnings.warn('Lazy modules are a new feature under heavy development '\n"
     ]
    }
   ],
   "source": [
    "# construct a scalar regression task with SchNet encoder\n",
    "task = ScalarRegressionTask(\n",
    "    encoder_class=EGNN,\n",
    "    encoder_kwargs={\"hidden_dim\": 128, \"output_dim\": 64},\n",
    "    task_keys=[\"energy\"],\n",
    ")\n",
    "\n",
    "# task = ScalarRegressionTask(\n",
    "#     encoder_class=EGNN,\n",
    "#     # kwargs to be passed into the creation of SchNet model\n",
    "#     encoder_kwargs={\n",
    "#         \"encoder_only\": True,\n",
    "#         \"hidden_dim\": 128,\n",
    "#         \"output__dim\": 1,\n",
    "#     },\n",
    "#     # which keys to use as targets\n",
    "#     task_keys=[\"energy\"],\n",
    "# )\n",
    "# # Use IS2RE devset to test workflow"
   ]
  },
  {
   "cell_type": "code",
   "execution_count": 16,
   "metadata": {},
   "outputs": [
    {
     "name": "stderr",
     "output_type": "stream",
     "text": [
      "GPU available: True (cuda), used: False\n",
      "TPU available: False, using: 0 TPU cores\n",
      "IPU available: False, using: 0 IPUs\n",
      "HPU available: False, using: 0 HPUs\n",
      "c:\\Users\\DIKSHIKA\\miniconda3\\envs\\matsciml\\lib\\site-packages\\pytorch_lightning\\trainer\\setup.py:175: PossibleUserWarning: GPU available but not used. Set `accelerator` and `devices` using `Trainer(accelerator='gpu', devices=1)`.\n",
      "  rank_zero_warn(\n",
      "Running in `fast_dev_run` mode: will run the requested loop using 1000 batch(es). Logging and checkpointing is suppressed.\n",
      "c:\\Users\\DIKSHIKA\\miniconda3\\envs\\matsciml\\lib\\site-packages\\pytorch_lightning\\utilities\\model_summary\\model_summary.py:411: UserWarning: A layer with UninitializedParameter was found. Thus, the total number of parameters detected may be inaccurate.\n",
      "  warning_cache.warn(\n",
      "\n",
      "  | Name         | Type       | Params\n",
      "--------------------------------------------\n",
      "0 | encoder      | EGNN       | 566 K \n",
      "1 | loss_func    | MSELoss    | 0     \n",
      "2 | output_heads | ModuleDict | 0     \n",
      "--------------------------------------------\n",
      "566 K     Trainable params\n",
      "0         Non-trainable params\n",
      "566 K     Total params\n",
      "2.266     Total estimated model params size (MB)\n",
      "c:\\Users\\DIKSHIKA\\miniconda3\\envs\\matsciml\\lib\\site-packages\\pytorch_lightning\\trainer\\connectors\\data_connector.py:224: PossibleUserWarning: The dataloader, train_dataloader, does not have many workers which may be a bottleneck. Consider increasing the value of the `num_workers` argument` (try 8 which is the number of cpus on this machine) in the `DataLoader` init to improve performance.\n",
      "  rank_zero_warn(\n",
      "c:\\Users\\DIKSHIKA\\miniconda3\\envs\\matsciml\\lib\\site-packages\\pytorch_lightning\\trainer\\trainer.py:1595: PossibleUserWarning: The number of training batches (25) is smaller than the logging interval Trainer(log_every_n_steps=50). Set a lower value for log_every_n_steps if you want to see logs for the training epoch.\n",
      "  rank_zero_warn(\n",
      "c:\\Users\\DIKSHIKA\\miniconda3\\envs\\matsciml\\lib\\site-packages\\pytorch_lightning\\trainer\\connectors\\data_connector.py:224: PossibleUserWarning: The dataloader, val_dataloader 0, does not have many workers which may be a bottleneck. Consider increasing the value of the `num_workers` argument` (try 8 which is the number of cpus on this machine) in the `DataLoader` init to improve performance.\n",
      "  rank_zero_warn(\n"
     ]
    },
    {
     "name": "stdout",
     "output_type": "stream",
     "text": [
      "Epoch 0:  10%|█         | 5/50 [00:03<00:32,  1.38it/s, loss=1.28e+05, v_num=, train_energy=1.27e+5]"
     ]
    }
   ],
   "source": [
    "from matsciml.datasets.transforms import PointCloudToGraphTransform\n",
    "\n",
    "# SchNet uses RBFs, and expects edge features corresponding to atom-atom distances\n",
    "dm = MatSciMLDataModule.from_devset(\n",
    "    \"LiPSDataset\",dset_kwargs={\"transforms\":[PointCloudToGraphTransform(\"pyg\", cutoff_dist=15.0)]}\n",
    ")\n",
    "\n",
    "# run a quick training loop\n",
    "trainer = pl.Trainer(fast_dev_run=1000)\n",
    "trainer.fit(task, datamodule=dm)\n"
   ]
  },
  {
   "cell_type": "code",
   "execution_count": 6,
   "metadata": {},
   "outputs": [],
   "source": [
    "from matsciml.models.pyg.mace.modules.blocks import *\n",
    "from matsciml.models.pyg.mace.modules.models import ScaleShiftMACE"
   ]
  },
  {
   "cell_type": "code",
   "execution_count": 7,
   "metadata": {},
   "outputs": [],
   "source": [
    "import matsciml\n",
    "import e3nn"
   ]
  },
  {
   "cell_type": "code",
   "execution_count": 8,
   "metadata": {},
   "outputs": [],
   "source": [
    "model_config = dict(\n",
    "        r_max=5.0,\n",
    "        num_bessel=8,\n",
    "        num_polynomial_cutoff=5,\n",
    "        max_ell=3,\n",
    "        interaction_cls= RealAgnosticResidualInteractionBlock ,\n",
    "        num_interactions=2,\n",
    "        num_elements=3,\n",
    "        hidden_irreps=e3nn.o3.Irreps('16x0e+16x1o+16x2e'),\n",
    "        atomic_energies=torch.Tensor([-13.663181292231226, -1029.2809654211628, -2042.0330099956639]),\n",
    "        avg_num_neighbors=14.38,\n",
    "        atomic_numbers=(1,6,8),\n",
    "    )"
   ]
  },
  {
   "cell_type": "code",
   "execution_count": 27,
   "metadata": {},
   "outputs": [
    {
     "name": "stderr",
     "output_type": "stream",
     "text": [
      "c:\\Users\\DIKSHIKA\\miniconda3\\envs\\matsciml\\lib\\site-packages\\torch\\jit\\_check.py:172: UserWarning: The TorchScript type system doesn't support instance-level annotations on empty non-base types in `__init__`. Instead, either 1) use a type annotation in the class body, or 2) wrap the type in `torch.jit.Attribute`.\n",
      "  warnings.warn(\"The TorchScript type system doesn't support \"\n",
      "f:\\Vaibhav\\M3RG\\matsciml\\matsciml\\models\\pyg\\mace\\modules\\blocks.py:131: UserWarning: To copy construct from a tensor, it is recommended to use sourceTensor.clone().detach() or sourceTensor.clone().detach().requires_grad_(True), rather than torch.tensor(sourceTensor).\n",
      "  torch.tensor(atomic_energies, dtype=torch.get_default_dtype()),\n"
     ]
    }
   ],
   "source": [
    "model=ScaleShiftMACE(\n",
    "            **model_config,\n",
    "            correlation=3,\n",
    "            gate=torch.nn.functional.silu,\n",
    "            interaction_cls_first=RealAgnosticResidualInteractionBlock,\n",
    "            MLP_irreps=e3nn.o3.Irreps('16x0e'),\n",
    "            atomic_inter_scale=1.0,\n",
    "            atomic_inter_shift=0.0,\n",
    "        )"
   ]
  },
  {
   "cell_type": "code",
   "execution_count": 10,
   "metadata": {},
   "outputs": [],
   "source": [
    "from matsciml.datasets.transforms import PointCloudToGraphTransform\n",
    "\n",
    "# SchNet uses RBFs, and expects edge features corresponding to atom-atom distances\n",
    "dm = MatSciMLDataModule.from_devset(\n",
    "    \"LiPSDataset\",dset_kwargs={\"transforms\":[PointCloudToGraphTransform(\"pyg\", cutoff_dist=15.0)]}\n",
    ")\n"
   ]
  },
  {
   "cell_type": "code",
   "execution_count": 13,
   "metadata": {},
   "outputs": [],
   "source": [
    "dm.setup()"
   ]
  },
  {
   "cell_type": "code",
   "execution_count": 16,
   "metadata": {},
   "outputs": [],
   "source": [
    "Train_loader=dm.train_dataloader()"
   ]
  },
  {
   "cell_type": "code",
   "execution_count": 18,
   "metadata": {},
   "outputs": [],
   "source": [
    "dataset_iter = iter(Train_loader)"
   ]
  },
  {
   "cell_type": "code",
   "execution_count": 20,
   "metadata": {},
   "outputs": [],
   "source": [
    "batch=next(dataset_iter)"
   ]
  },
  {
   "cell_type": "code",
   "execution_count": 26,
   "metadata": {},
   "outputs": [
    {
     "data": {
      "text/plain": [
       "DataBatch(edge_index=[2, 26536], pos=[664, 3], atomic_numbers=[664], force=[664, 3], batch=[664], ptr=[9])"
      ]
     },
     "execution_count": 26,
     "metadata": {},
     "output_type": "execute_result"
    }
   ],
   "source": [
    "batch['graph']"
   ]
  },
  {
   "cell_type": "code",
   "execution_count": 28,
   "metadata": {},
   "outputs": [
    {
     "name": "stdout",
     "output_type": "stream",
     "text": [
      "Here\n"
     ]
    },
    {
     "ename": "TypeError",
     "evalue": "_forward() got an unexpected keyword argument 'graph'",
     "output_type": "error",
     "traceback": [
      "\u001b[1;31m---------------------------------------------------------------------------\u001b[0m",
      "\u001b[1;31mTypeError\u001b[0m                                 Traceback (most recent call last)",
      "\u001b[1;32mf:\\Vaibhav\\M3RG\\matsciml\\test_notebook.ipynb Cell 17\u001b[0m line \u001b[0;36m<cell line: 1>\u001b[1;34m()\u001b[0m\n\u001b[1;32m----> <a href='vscode-notebook-cell:/f%3A/Vaibhav/M3RG/matsciml/test_notebook.ipynb#X23sZmlsZQ%3D%3D?line=0'>1</a>\u001b[0m model(batch)\n",
      "File \u001b[1;32mc:\\Users\\DIKSHIKA\\miniconda3\\envs\\matsciml\\lib\\site-packages\\torch\\nn\\modules\\module.py:1501\u001b[0m, in \u001b[0;36mModule._call_impl\u001b[1;34m(self, *args, **kwargs)\u001b[0m\n\u001b[0;32m   1496\u001b[0m \u001b[39m# If we don't have any hooks, we want to skip the rest of the logic in\u001b[39;00m\n\u001b[0;32m   1497\u001b[0m \u001b[39m# this function, and just call forward.\u001b[39;00m\n\u001b[0;32m   1498\u001b[0m \u001b[39mif\u001b[39;00m \u001b[39mnot\u001b[39;00m (\u001b[39mself\u001b[39m\u001b[39m.\u001b[39m_backward_hooks \u001b[39mor\u001b[39;00m \u001b[39mself\u001b[39m\u001b[39m.\u001b[39m_backward_pre_hooks \u001b[39mor\u001b[39;00m \u001b[39mself\u001b[39m\u001b[39m.\u001b[39m_forward_hooks \u001b[39mor\u001b[39;00m \u001b[39mself\u001b[39m\u001b[39m.\u001b[39m_forward_pre_hooks\n\u001b[0;32m   1499\u001b[0m         \u001b[39mor\u001b[39;00m _global_backward_pre_hooks \u001b[39mor\u001b[39;00m _global_backward_hooks\n\u001b[0;32m   1500\u001b[0m         \u001b[39mor\u001b[39;00m _global_forward_hooks \u001b[39mor\u001b[39;00m _global_forward_pre_hooks):\n\u001b[1;32m-> 1501\u001b[0m     \u001b[39mreturn\u001b[39;00m forward_call(\u001b[39m*\u001b[39margs, \u001b[39m*\u001b[39m\u001b[39m*\u001b[39mkwargs)\n\u001b[0;32m   1502\u001b[0m \u001b[39m# Do not call functions when jit is used\u001b[39;00m\n\u001b[0;32m   1503\u001b[0m full_backward_hooks, non_full_backward_hooks \u001b[39m=\u001b[39m [], []\n",
      "File \u001b[1;32mf:\\Vaibhav\\M3RG\\matsciml\\matsciml\\models\\base.py:291\u001b[0m, in \u001b[0;36mAbstractTask.forward\u001b[1;34m(self, batch)\u001b[0m\n\u001b[0;32m    273\u001b[0m \u001b[39m\u001b[39m\u001b[39m\"\"\"\u001b[39;00m\n\u001b[0;32m    274\u001b[0m \u001b[39mGiven a batch structure, extract out data and pass it into the\u001b[39;00m\n\u001b[0;32m    275\u001b[0m \u001b[39mneural network architecture. This implements the 'forward' method\u001b[39;00m\n\u001b[1;32m   (...)\u001b[0m\n\u001b[0;32m    288\u001b[0m \u001b[39m    Output of the model; can be embeddings or projected values\u001b[39;00m\n\u001b[0;32m    289\u001b[0m \u001b[39m\"\"\"\u001b[39;00m\n\u001b[0;32m    290\u001b[0m input_data \u001b[39m=\u001b[39m \u001b[39mself\u001b[39m\u001b[39m.\u001b[39mread_batch(batch)\n\u001b[1;32m--> 291\u001b[0m outputs \u001b[39m=\u001b[39m \u001b[39mself\u001b[39m\u001b[39m.\u001b[39m_forward(\u001b[39m*\u001b[39m\u001b[39m*\u001b[39minput_data)\n\u001b[0;32m    292\u001b[0m \u001b[39mreturn\u001b[39;00m outputs\n",
      "\u001b[1;31mTypeError\u001b[0m: _forward() got an unexpected keyword argument 'graph'"
     ]
    }
   ],
   "source": [
    "model(batch)"
   ]
  },
  {
   "cell_type": "code",
   "execution_count": 31,
   "metadata": {},
   "outputs": [
    {
     "name": "stdout",
     "output_type": "stream",
     "text": [
      "cell torch.Size([24, 3])\n",
      "energy torch.Size([8, 1])\n",
      "force torch.Size([664, 3])\n",
      "pbc torch.Size([8, 3])\n",
      "targets {'energy': tensor([[-357.5916],\n",
      "        [-357.8454],\n",
      "        [-357.2771],\n",
      "        [-357.1832],\n",
      "        [-357.8833],\n",
      "        [-357.1904],\n",
      "        [-357.8636],\n",
      "        [-357.9084]]), 'force': tensor([[-0.0536, -0.0860,  0.4961],\n",
      "        [-0.2818, -0.5977,  0.7042],\n",
      "        [ 0.0154, -0.6760,  0.4201],\n",
      "        ...,\n",
      "        [-0.0953, -0.8434, -1.1508],\n",
      "        [-0.4223, -0.3521, -0.2732],\n",
      "        [ 3.8550, -0.2919, -0.8205]])}\n",
      "dataset LiPSDataset\n",
      "graph DataBatch(edge_index=[2, 26536], pos=[664, 3], atomic_numbers=[664], force=[664, 3], batch=[664], ptr=[9])\n",
      "target_types {'regression': ['energy', 'force'], 'classification': []}\n"
     ]
    }
   ],
   "source": [
    "for key in batch.keys():\n",
    "    try:\n",
    "        print(key,batch[key].shape)\n",
    "    except:\n",
    "        print(key,batch[key])\n"
   ]
  },
  {
   "cell_type": "code",
   "execution_count": 32,
   "metadata": {},
   "outputs": [
    {
     "name": "stdout",
     "output_type": "stream",
     "text": [
      "ptr torch.Size([9])\n",
      "force torch.Size([664, 3])\n",
      "atomic_numbers torch.Size([664])\n",
      "pos torch.Size([664, 3])\n",
      "edge_index torch.Size([2, 26536])\n",
      "batch torch.Size([664])\n"
     ]
    }
   ],
   "source": [
    "for key in batch['graph'].keys():\n",
    "    try:\n",
    "        print(key,batch['graph'][key].shape)\n",
    "    except:\n",
    "        print(key,batch['graph'][key])"
   ]
  },
  {
   "cell_type": "code",
   "execution_count": null,
   "metadata": {},
   "outputs": [],
   "source": []
  },
  {
   "cell_type": "code",
   "execution_count": null,
   "metadata": {},
   "outputs": [],
   "source": []
  },
  {
   "cell_type": "code",
   "execution_count": null,
   "metadata": {
    "vscode": {
     "languageId": "shellscript"
    }
   },
   "outputs": [],
   "source": [
    "python3 mdbenchgnn/models/mace/scripts/run_train.py   --name=\"MACE_model_lips\"   --log_dir=\"output_dir_sl/mace/lips/logs\"   --model_dir=\"output_dir_sl/mace/lips\"   --results_dir=\"output_dir_sl/mace/lips/results\"   --checkpoints_dir=\"output_dir_sl/mace/lips/checkpoints\"   --train_file='/home/civil/visitor/vaibhavb.visitor/ce1180169.home/MDBENCHGNN/example_mdbenchgnn/md17/aspirin/train/botnet.xyz'   --valid_file='/home/civil/visitor/vaibhavb.visitor/ce1180169.home/MDBENCHGNN/example_mdbenchgnn/md17/aspirin/val/botnet.xyz'   --E0s='{1:-13.663181292231226, 3:-216.78673811801755, 6:-1029.2809654211628, 7:-1484.1187695035828, 8:-2042.0330099956639, 15:-1537.0898574856286, 16:-1867.8202267974733}'   --model=\"ScaleShiftMACE\"   --hidden_irreps='16x0e+16x1o+16x2e '   --r_max=5.0   --batch_size=20   --valid_batch_size=20   --max_num_epochs=500   --ema   --ema_decay=0.99   --amsgrad   --default_dtype=\"float32\"   --device=cpu   --seed=123   --swa\n"
   ]
  }
 ],
 "metadata": {
  "kernelspec": {
   "display_name": "matsciml",
   "language": "python",
   "name": "python3"
  },
  "language_info": {
   "codemirror_mode": {
    "name": "ipython",
    "version": 3
   },
   "file_extension": ".py",
   "mimetype": "text/x-python",
   "name": "python",
   "nbconvert_exporter": "python",
   "pygments_lexer": "ipython3",
   "version": "3.9.0"
  }
 },
 "nbformat": 4,
 "nbformat_minor": 2
}
